{
 "cells": [
  {
   "cell_type": "markdown",
   "metadata": {
    "id": "ZglEtnvbw3cr"
   },
   "source": [
    "<div>Machine Learning 2019-2020 DIC-1<br/>\n",
    "<h3>Eleve-ingenieur: Abdou Yaya SADIAKHOU</h3>\n",
    "<h3>Professeure: Mme Diop</h3></div>\n",
    "<h1 ALIGN=\"center\">RAPPORT DE TP N<sup><u>o</u></sup>2: EXERCICE 1</h1>"
   ]
  },
  {
   "cell_type": "markdown",
   "metadata": {
    "id": "S0kBg5kEw3ct"
   },
   "source": [
    "<h1 align=\"center\">TP2 : apprentissage artificiel avec Numpy, pandas et Scikit-Learn,<br/> Ndeye Fatou NGOM (2018-2019)</h1>"
   ]
  },
  {
   "cell_type": "markdown",
   "metadata": {
    "id": "1_6u4uUYw3cw"
   },
   "source": [
    "<img src=\"https://data-flair.training/blogs/wp-content/uploads/sites/2/2019/10/Machine-Learning-Classification-Algorithms-1280x720.jpg\">"
   ]
  },
  {
   "cell_type": "markdown",
   "metadata": {
    "id": "f6kX6YIkw3c0"
   },
   "source": [
    "<pre><u><b>Exercice 4:</b></u> Classification\n",
    "\n",
    "    1. Jeu de donnée MNIST\n",
    "</pre>\n"
   ]
  },
  {
   "cell_type": "markdown",
   "metadata": {
    "id": "Ej-Ft1m4w3c1"
   },
   "source": [
    "(a) Concevez un classificateur pour le jeu de données MNIST."
   ]
  },
  {
   "cell_type": "markdown",
   "metadata": {
    "id": "5ZiIKIiUw3c3"
   },
   "source": [
    "\n",
    "## Nous allons utiliser le classifieur KNeighborsClassifier avec un k=5 (5-plus proches voisins)"
   ]
  },
  {
   "cell_type": "code",
   "execution_count": 14,
   "metadata": {
    "executionInfo": {
     "elapsed": 1642,
     "status": "ok",
     "timestamp": 1602760122480,
     "user": {
      "displayName": "Abdou Yaya SADIAKHOU",
      "photoUrl": "https://lh3.googleusercontent.com/a-/AOh14Gj4YJQWU3wXnJeIa6jugGxlAZ6mZZkdhGOq8D5v=s64",
      "userId": "15030394575217134420"
     },
     "user_tz": 0
    },
    "id": "q6cZuiwGw3c4"
   },
   "outputs": [],
   "source": [
    "import pandas as pd\n",
    "import numpy as np\n",
    "from sklearn.datasets import fetch_openml\n",
    "import matplotlib\n",
    "\n",
    "from sklearn.neighbors import KNeighborsClassifier\n",
    "from sklearn.model_selection import train_test_split\n",
    "from sklearn.metrics import accuracy_score, confusion_matrix\n",
    "from sklearn.model_selection import GridSearchCV\n",
    "import seaborn as sns\n",
    "\n",
    "import matplotlib.pyplot as plt\n",
    "%matplotlib inline"
   ]
  },
  {
   "cell_type": "code",
   "execution_count": 3,
   "metadata": {
    "executionInfo": {
     "elapsed": 26986,
     "status": "ok",
     "timestamp": 1602760168877,
     "user": {
      "displayName": "Abdou Yaya SADIAKHOU",
      "photoUrl": "https://lh3.googleusercontent.com/a-/AOh14Gj4YJQWU3wXnJeIa6jugGxlAZ6mZZkdhGOq8D5v=s64",
      "userId": "15030394575217134420"
     },
     "user_tz": 0
    },
    "id": "d2v-YAcWw3dA"
   },
   "outputs": [],
   "source": [
    "mnist = fetch_openml('mnist_784')"
   ]
  },
  {
   "cell_type": "code",
   "execution_count": 4,
   "metadata": {
    "colab": {
     "base_uri": "https://localhost:8080/",
     "height": 53
    },
    "executionInfo": {
     "elapsed": 997,
     "status": "ok",
     "timestamp": 1602760200241,
     "user": {
      "displayName": "Abdou Yaya SADIAKHOU",
      "photoUrl": "https://lh3.googleusercontent.com/a-/AOh14Gj4YJQWU3wXnJeIa6jugGxlAZ6mZZkdhGOq8D5v=s64",
      "userId": "15030394575217134420"
     },
     "user_tz": 0
    },
    "id": "ZcCWi909w3dF",
    "outputId": "6081e602-2bee-4629-acf6-1db265484dd2"
   },
   "outputs": [
    {
     "name": "stdout",
     "output_type": "stream",
     "text": [
      "taille(ensemble observation):\t (70000, 784) \n",
      "taille(target -- cible):\t (70000,)\n"
     ]
    }
   ],
   "source": [
    "X = mnist.data\n",
    "y = mnist.target\n",
    "\n",
    "print('taille(ensemble observation):\\t', X.shape,\n",
    "      '\\ntaille(target -- cible):\\t', y.shape)"
   ]
  },
  {
   "cell_type": "code",
   "execution_count": 5,
   "metadata": {
    "colab": {
     "base_uri": "https://localhost:8080/",
     "height": 611
    },
    "executionInfo": {
     "elapsed": 2026,
     "status": "ok",
     "timestamp": 1602760203985,
     "user": {
      "displayName": "Abdou Yaya SADIAKHOU",
      "photoUrl": "https://lh3.googleusercontent.com/a-/AOh14Gj4YJQWU3wXnJeIa6jugGxlAZ6mZZkdhGOq8D5v=s64",
      "userId": "15030394575217134420"
     },
     "user_tz": 0
    },
    "id": "knikLqT2w3dL",
    "outputId": "a7087526-cc96-42dc-f681-401b1b9d2322"
   },
   "outputs": [
    {
     "data": {
      "image/png": "[encoded data removed]",
      "text/plain": [
       "<Figure size 1152x1152 with 6 Axes>"
      ]
     },
     "metadata": {
      "needs_background": "light"
     },
     "output_type": "display_data"
    }
   ],
   "source": [
    "# Visualisons\n",
    "plt.figure(figsize=[16, 16])\n",
    "for i in range(1, 7):\n",
    "    plt.subplot(3, 3, i)\n",
    "    plt.imshow(X[np.random.randint(0, X.shape[0])].reshape(28, 28))"
   ]
  },
  {
   "cell_type": "code",
   "execution_count": 6,
   "metadata": {
    "executionInfo": {
     "elapsed": 1917,
     "status": "ok",
     "timestamp": 1602760234753,
     "user": {
      "displayName": "Abdou Yaya SADIAKHOU",
      "photoUrl": "https://lh3.googleusercontent.com/a-/AOh14Gj4YJQWU3wXnJeIa6jugGxlAZ6mZZkdhGOq8D5v=s64",
      "userId": "15030394575217134420"
     },
     "user_tz": 0
    },
    "id": "y3kLBLrEw3dQ"
   },
   "outputs": [],
   "source": [
    "X_train, X_test, y_train, y_test = train_test_split(X, y, test_size=0.2, random_state=7)"
   ]
  },
  {
   "cell_type": "code",
   "execution_count": 7,
   "metadata": {
    "executionInfo": {
     "elapsed": 536,
     "status": "ok",
     "timestamp": 1602760235907,
     "user": {
      "displayName": "Abdou Yaya SADIAKHOU",
      "photoUrl": "https://lh3.googleusercontent.com/a-/AOh14Gj4YJQWU3wXnJeIa6jugGxlAZ6mZZkdhGOq8D5v=s64",
      "userId": "15030394575217134420"
     },
     "user_tz": 0
    },
    "id": "wBb0IuEaJCh-"
   },
   "outputs": [],
   "source": [
    "model = KNeighborsClassifier(n_neighbors=6)\n"
   ]
  },
  {
   "cell_type": "code",
   "execution_count": 8,
   "metadata": {
    "colab": {
     "base_uri": "https://localhost:8080/",
     "height": 108
    },
    "executionInfo": {
     "elapsed": 14810,
     "status": "ok",
     "timestamp": 1602760251603,
     "user": {
      "displayName": "Abdou Yaya SADIAKHOU",
      "photoUrl": "https://lh3.googleusercontent.com/a-/AOh14Gj4YJQWU3wXnJeIa6jugGxlAZ6mZZkdhGOq8D5v=s64",
      "userId": "15030394575217134420"
     },
     "user_tz": 0
    },
    "id": "zI12JQvfKFSq",
    "outputId": "c2ce2de9-f2bf-4c0d-8840-116fc7fc6218"
   },
   "outputs": [
    {
     "name": "stdout",
     "output_type": "stream",
     "text": [
      "Wall time: 24.1 s\n"
     ]
    },
    {
     "data": {
      "text/plain": [
       "KNeighborsClassifier(n_neighbors=6)"
      ]
     },
     "execution_count": 8,
     "metadata": {},
     "output_type": "execute_result"
    }
   ],
   "source": [
    "%%time\n",
    "model.fit(X_train, y_train)"
   ]
  },
  {
   "cell_type": "code",
   "execution_count": 9,
   "metadata": {
    "id": "b90_k_2Cw3dZ"
   },
   "outputs": [
    {
     "name": "stdout",
     "output_type": "stream",
     "text": [
      "Wall time: 14min 1s\n"
     ]
    }
   ],
   "source": [
    "%%time\n",
    "y_pred = model.predict(X_test)"
   ]
  },
  {
   "cell_type": "code",
   "execution_count": null,
   "metadata": {
    "id": "EfqwI-rLw3dc"
   },
   "outputs": [],
   "source": []
  },
  {
   "cell_type": "markdown",
   "metadata": {
    "id": "jq-npVu1w3dg"
   },
   "source": [
    "### Score du model"
   ]
  },
  {
   "cell_type": "code",
   "execution_count": 10,
   "metadata": {
    "id": "terigpfIw3di"
   },
   "outputs": [
    {
     "name": "stdout",
     "output_type": "stream",
     "text": [
      "accuracy:\t 0.9701\n"
     ]
    }
   ],
   "source": [
    "print(\"accuracy:\\t %.4f\"%accuracy_score(y_test, y_pred))"
   ]
  },
  {
   "cell_type": "code",
   "execution_count": 12,
   "metadata": {
    "id": "jHQt5sXUw3dm"
   },
   "outputs": [
    {
     "name": "stdout",
     "output_type": "stream",
     "text": [
      "[[1377    2    0    0    0    2    3    1    0    0]\n",
      " [   0 1557    2    0    0    0    0    3    0    1]\n",
      " [  11   17 1338    2    2    0    1   21    0    1]\n",
      " [   0    6   11 1410    0   10    0    9    7    5]\n",
      " [   2   11    0    0 1298    0    3    2    0   23]\n",
      " [   4    3    0   19    1 1180   20    3    2    7]\n",
      " [   5    5    1    0    2    4 1335    0    0    0]\n",
      " [   0   12    3    1    5    0    0 1459    1   10]\n",
      " [   6   20    4   19    4   23    3    3 1279   19]\n",
      " [   7    3    0    7   15    1    0   19    0 1348]]\n"
     ]
    }
   ],
   "source": [
    "results = confusion_matrix(y_test, y_pred, labels=model.classes_)\n",
    "print(results)"
   ]
  },
  {
   "cell_type": "markdown",
   "metadata": {
    "id": "PbHUDAaSw3dp"
   },
   "source": [
    "### Voyons de plus prés le comportement du model avec une matrice de confusion"
   ]
  },
  {
   "cell_type": "code",
   "execution_count": 15,
   "metadata": {
    "id": "Lt9xOa-kw3dq"
   },
   "outputs": [
    {
     "data": {
      "image/png": "[encoded data removed]",
      "text/plain": [
       "<Figure size 864x864 with 2 Axes>"
      ]
     },
     "metadata": {
      "needs_background": "light"
     },
     "output_type": "display_data"
    }
   ],
   "source": [
    "data = {'reels': y_test,\n",
    "       'predits': y_pred}\n",
    "results_knn = pd.DataFrame(data, columns=['reels', 'predits'])\n",
    "conf_mat = pd.crosstab(results_knn['reels'], results_knn['predits'], rownames=['reels'], colnames=['predits'])\n",
    "\n",
    "\n",
    "plt.figure(figsize=[12, 12])\n",
    "sns.heatmap(conf_mat, annot=True)\n",
    "plt.show()"
   ]
  },
  {
   "cell_type": "code",
   "execution_count": 16,
   "metadata": {
    "id": "7qf-iSyew3du"
   },
   "outputs": [
    {
     "name": "stdout",
     "output_type": "stream",
     "text": [
      "***************\n",
      "pour n = 0\n",
      " [[12580    35]\n",
      " [    8  1377]]\n",
      "***************\n",
      "\n",
      "***************\n",
      "pour n = 1\n",
      " [[12358    79]\n",
      " [    6  1557]]\n",
      "***************\n",
      "\n",
      "***************\n",
      "pour n = 2\n",
      " [[12586    21]\n",
      " [   55  1338]]\n",
      "***************\n",
      "\n",
      "***************\n",
      "pour n = 3\n",
      " [[12494    48]\n",
      " [   48  1410]]\n",
      "***************\n",
      "\n",
      "***************\n",
      "pour n = 4\n",
      " [[12632    29]\n",
      " [   41  1298]]\n",
      "***************\n",
      "\n",
      "***************\n",
      "pour n = 5\n",
      " [[12721    40]\n",
      " [   59  1180]]\n",
      "***************\n",
      "\n",
      "***************\n",
      "pour n = 6\n",
      " [[12618    30]\n",
      " [   17  1335]]\n",
      "***************\n",
      "\n",
      "***************\n",
      "pour n = 7\n",
      " [[12448    61]\n",
      " [   32  1459]]\n",
      "***************\n",
      "\n",
      "***************\n",
      "pour n = 8\n",
      " [[12610    10]\n",
      " [  101  1279]]\n",
      "***************\n",
      "\n"
     ]
    }
   ],
   "source": [
    "def one_vs_all_(n):\n",
    "    cm = confusion_matrix(y_test == str(n), y_pred==str(n))\n",
    "    return cm\n",
    "\n",
    "for n in range(9):\n",
    "    print(\"*\"*15)\n",
    "    print(\"pour n = %d\\n\"%n, one_vs_all_(n))\n",
    "    print(\"*\"*15)\n",
    "    print()"
   ]
  },
  {
   "cell_type": "markdown",
   "metadata": {
    "id": "JyILwuskw3dx"
   },
   "source": [
    "(b) Ecrivez une fonction qui peut décaler une image MNIST d’un pixel dans une direction quelconque."
   ]
  },
  {
   "cell_type": "code",
   "execution_count": 17,
   "metadata": {
    "id": "ThOL0Tzdw3dy"
   },
   "outputs": [],
   "source": [
    "from scipy.ndimage.interpolation import shift"
   ]
  },
  {
   "cell_type": "code",
   "execution_count": 18,
   "metadata": {
    "id": "LrD3y3ibw3d3"
   },
   "outputs": [],
   "source": [
    "example_image_decalee = shift(X[2000].reshape((28, 28)), [1, 1], cval=0)"
   ]
  },
  {
   "cell_type": "code",
   "execution_count": 19,
   "metadata": {
    "id": "BxtHPRNZw3d5"
   },
   "outputs": [
    {
     "data": {
      "text/plain": [
       "<matplotlib.image.AxesImage at 0x2712836c908>"
      ]
     },
     "execution_count": 19,
     "metadata": {},
     "output_type": "execute_result"
    },
    {
     "data": {
      "image/png": "[encoded data removed]",
      "text/plain": [
       "<Figure size 432x288 with 2 Axes>"
      ]
     },
     "metadata": {
      "needs_background": "light"
     },
     "output_type": "display_data"
    }
   ],
   "source": [
    "fig, ax = plt.subplots(2,1)\n",
    "ax[0].imshow(X[2000].reshape((28, 28)), cmap = matplotlib.cm.binary, interpolation=\"nearest\")\n",
    "ax[1].imshow(example_image_decalee, cmap = matplotlib.cm.binary, interpolation=\"nearest\")"
   ]
  },
  {
   "cell_type": "code",
   "execution_count": 20,
   "metadata": {
    "id": "DQJUjYlQw3d9"
   },
   "outputs": [
    {
     "data": {
      "text/plain": [
       "array([[ 0.00000000e+00,  0.00000000e+00,  0.00000000e+00, ...,\n",
       "         0.00000000e+00,  0.00000000e+00,  0.00000000e+00],\n",
       "       [ 3.84715975e-18, -3.13765674e-18, -8.37511899e-19, ...,\n",
       "         0.00000000e+00,  0.00000000e+00,  0.00000000e+00],\n",
       "       [ 0.00000000e+00,  0.00000000e+00,  0.00000000e+00, ...,\n",
       "        -7.62856565e-19, -6.30832754e-19,  2.36122760e-18],\n",
       "       [ 1.71341613e-17,  9.10335217e-17,  6.64246451e-17, ...,\n",
       "         0.00000000e+00,  0.00000000e+00,  0.00000000e+00],\n",
       "       [ 0.00000000e+00,  0.00000000e+00,  0.00000000e+00, ...,\n",
       "         4.10202684e-15, -9.59514762e-18, -2.79109518e-17]])"
      ]
     },
     "execution_count": 20,
     "metadata": {},
     "output_type": "execute_result"
    },
    {
     "data": {
      "image/png": "[encoded data removed]",
      "text/plain": [
       "<Figure size 5760x288 with 5 Axes>"
      ]
     },
     "metadata": {
      "needs_background": "light"
     },
     "output_type": "display_data"
    }
   ],
   "source": [
    "def shift_image(digit, dist_ecart=1, affiche=0):\n",
    "    taille = 28\n",
    "    digit_image = digit.reshape((taille, taille))\n",
    "    digit_image_u = shift(digit_image, [-dist_ecart, 0], cval=0)\n",
    "    digit_image_d = shift(digit_image, [+dist_ecart, 0], cval=0)\n",
    "    digit_image_l = shift(digit_image, [0, -dist_ecart], cval=0)\n",
    "    digit_image_r = shift(digit_image, [0, +dist_ecart], cval=0)\n",
    "    \n",
    "    if affiche:\n",
    "        fig, ax = plt.subplots(5, 1)\n",
    "        fig.set_size_inches(80, fig.get_figheight(), forward=True)\n",
    "        ax[0].imshow(digit_image, cmap = matplotlib.cm.binary, interpolation=\"nearest\")\n",
    "        ax[1].imshow(digit_image_u, cmap = matplotlib.cm.binary, interpolation=\"nearest\")\n",
    "        ax[2].imshow(digit_image_d, cmap = matplotlib.cm.binary, interpolation=\"nearest\")\n",
    "        ax[3].imshow(digit_image_l, cmap = matplotlib.cm.binary, interpolation=\"nearest\")\n",
    "        ax[4].imshow(digit_image_r, cmap = matplotlib.cm.binary, interpolation=\"nearest\")\n",
    "    \n",
    "    X_i_shifted = np.concatenate([image.reshape(1,taille**2) for image in [digit_image, digit_image_u, digit_image_d, digit_image_l, digit_image_r]])\n",
    "    return X_i_shifted\n",
    "\n",
    "shift_image(X[500], 5, 1)"
   ]
  },
  {
   "cell_type": "markdown",
   "metadata": {
    "id": "yvub3Ot0w3eA"
   },
   "source": [
    "(c) Puis, pour chaque image du jeu d’entraînement, créez quatre copies décalées et ajoutez les au jeu d’entraînement."
   ]
  },
  {
   "cell_type": "code",
   "execution_count": 21,
   "metadata": {
    "id": "GeJ5Cybuw3eA"
   },
   "outputs": [],
   "source": [
    "X_train, X_test, y_train, y_test = X[:60000], X[60000:], y[:60000], y[60000:]\n",
    "shuffle_index = np.random.permutation(len(X_train))\n",
    "X_train, y_train = X_train[shuffle_index], y_train[shuffle_index]"
   ]
  },
  {
   "cell_type": "code",
   "execution_count": 23,
   "metadata": {
    "id": "3Hx2RaYMw3eE"
   },
   "outputs": [
    {
     "data": {
      "text/plain": [
       "((300000, 784), (300000, 1))"
      ]
     },
     "execution_count": 23,
     "metadata": {},
     "output_type": "execute_result"
    }
   ],
   "source": [
    "X_train_decalee = np.concatenate([shift_image(image) for image in X_train])\n",
    "y_train_decalee = y_train.repeat(5, axis=0).reshape(-1, 1)\n",
    "\n",
    "X_train_decalee.shape, y_train_decalee.shape"
   ]
  },
  {
   "cell_type": "markdown",
   "metadata": {
    "id": "1KbkC63kw3eG"
   },
   "source": [
    "(d) Ensuite entraînez votre meilleur modèle sur ce jeu d’entraînement\n",
    "étendu et mesurez son excatitude sur le jeu de test."
   ]
  },
  {
   "cell_type": "code",
   "execution_count": 24,
   "metadata": {
    "id": "M1Nf1Th1w3eH"
   },
   "outputs": [],
   "source": [
    "param_grid = [{'weights':[\"uniform\", \"distance\"], \n",
    "               \"n_neighbors\":[3,4,5]\n",
    "              }\n",
    "             ]\n",
    " \n",
    "knn_class = KNeighborsClassifier()\n",
    "grid_search2 = GridSearchCV(knn_class, param_grid, cv=5, verbose=3)\n"
   ]
  },
  {
   "cell_type": "code",
   "execution_count": null,
   "metadata": {
    "id": "-T9BlEI6w3eR"
   },
   "outputs": [],
   "source": [
    "grid_search2.fit(X_train_decalee, y_train_decalee)"
   ]
  },
  {
   "cell_type": "code",
   "execution_count": null,
   "metadata": {
    "id": "367fZhDYw3eN"
   },
   "outputs": [],
   "source": [
    "y_pred_dec = grid_search2.predict(X_test)\n",
    "print(\"accuracy:\\t %.4f\"%accuracy_score(y_pred_dec, y_test))"
   ]
  },
  {
   "cell_type": "code",
   "execution_count": null,
   "metadata": {
    "id": "_qVCyMQO161M"
   },
   "outputs": [],
   "source": []
  }
 ],
 "metadata": {
  "colab": {
   "collapsed_sections": [],
   "name": "TP2_exo4.ipynb",
   "provenance": [
    {
     "file_id": "1iGwM_cEGzCRlfzQZdbmZMteidow4cIwD",
     "timestamp": 1602727558648
    }
   ]
  },
  "kernelspec": {
   "display_name": "Python 3",
   "language": "python",
   "name": "python3"
  },
  "language_info": {
   "codemirror_mode": {
    "name": "ipython",
    "version": 3
   },
   "file_extension": ".py",
   "mimetype": "text/x-python",
   "name": "python",
   "nbconvert_exporter": "python",
   "pygments_lexer": "ipython3",
   "version": "3.7.9"
  }
 },
 "nbformat": 4,
 "nbformat_minor": 1
}
